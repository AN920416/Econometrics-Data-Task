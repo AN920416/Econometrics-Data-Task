{
 "cells": [
  {
   "cell_type": "markdown",
   "id": "551296be",
   "metadata": {},
   "source": [
    "## <center>Introductory Econometrics - Data Task<center>\n",
    "## <center>探討名字「菜市場程度」與考試成績的關聯<center>\n",
    "### <center>汪晁安<center>\n",
    "\n",
    "<br/><br/>\n",
    "資料說明：\\\n",
    "    -`list.txt`：2004 年 8 月大學入學分發榜單 \\\n",
    "    -`depname.txt`：科系代碼表 \\\n",
    "\\\n",
    "使用Julia + Jupyter完成。"
   ]
  },
  {
   "cell_type": "markdown",
   "id": "bab39ea9-4b82-476a-8c72-fedd79dcfe5c",
   "metadata": {},
   "source": [
    "## 進行資料整理"
   ]
  },
  {
   "cell_type": "code",
   "execution_count": 2,
   "id": "5ffea6fc",
   "metadata": {},
   "outputs": [
    {
     "name": "stdout",
     "output_type": "stream",
     "text": [
      "Any[(\"安沛\", 1), (\"芊曄\", 1), (\"姿瑩\", 1), (\"怡親\", 1), (\"仕達\", 1), (\"溫馨\", 1), (\"治平\", 1), (\"宗翰\", 1), (\"秀倩\", 1), (\"盈孜\", 1)]\n",
      "Any[Any[0, \"中國文化大學\", \"017\", 4296, 770, 1065], Any[0, \"淡江大學\", \"014\", 3587, 633, 701], Any[0, \"輔仁大學\", \"020\", 3394, 1131, 1225], Any[0, \"銘傳大學\", \"046\", 3197, 2156, 2211], Any[0, \"逢甲大學\", \"015\", 2938, 702, 741], Any[1, \"國立臺灣大學\", \"001\", 2866, 1, 76], Any[0, \"東海大學\", \"009\", 2809, 451, 534], Any[0, \"真理大學\", \"079\", 2426, 2522, 2557], Any[0, \"東吳大學\", \"005\", 2398, 254, 320], Any[0, \"實踐大學\", \"050\", 2379, 2252, 2315]]"
     ]
    }
   ],
   "source": [
    "using StringEncodings, DataFrames, CSV\n",
    "rawlist = readlines(\".\\\\list.txt\", enc\"UTF-16BE\")      #須將檔案與ipynb置於同一資料夾才能讀取 且須先將格式轉換成UTF-16BE\n",
    "rawschool = readlines(\".\\\\depname.txt\", enc\"UTF-16BE\")\n",
    "Unilist = []\n",
    "dptlist = []\n",
    "list = []\n",
    "dptCode = 1\n",
    "N_uni = 0\n",
    "N_stu = 0\n",
    "P = 0\n",
    "N = 0\n",
    "flag = false\n",
    "rawlist[1] = rawlist[1][4:8]\n",
    "rawschool[1] = rawschool[1][4:end]\n",
    "\n",
    "#科系代碼\n",
    "push!(Unilist, [1, \"國立臺灣大學\", \"001\", 41, 1, 0]) #公立1 私立0 / 全名 / 累計錄取人數 / 學系代碼開頭 / 學系代碼結尾\n",
    "N_stu += 41\n",
    "for i in 2:length(rawschool)\n",
    "    \n",
    "    #逐行分割\n",
    "    prev = filter(s->!all(isempty, s), split(rawschool[i - 1],\" \"))\n",
    "    tmp = filter(s->!all(isempty, s), split(rawschool[i],\" \"))\n",
    "    if length(tmp) == 3     \n",
    "        push!(tmp, tmp[end][8:10], tmp[end][11:13])\n",
    "        tmp[3] = tmp[3][1:7]\n",
    "    elseif length(tmp) == 4\n",
    "        push!(tmp, tmp[end][3:5])\n",
    "    end\n",
    "    \n",
    "    #讀取\n",
    "    if tmp[3][5:7] != Unilist[end][3]\n",
    "        N_uni +=1\n",
    "        Unilist[end][6] = parse(Int64, prev[3][1:4])\n",
    "        push!(Unilist,[1 * (tmp[1][1:4] == \"國立\"), tmp[1], tmp[3][5:7],parse(Int64, tmp[5]), parse(Int64, tmp[3][1:4]), 0])\n",
    "    else\n",
    "        Unilist[end][4] += parse(Int64, tmp[5])\n",
    "    end\n",
    "    N_stu += parse(Int64, tmp[5])\n",
    "    \n",
    "    if i ==length(rawschool)\n",
    "        Unilist[end][6] = parse(Int64, tmp[3][1:4])\n",
    "        N_uni += 1\n",
    "    end\n",
    "end\n",
    "sort!(Unilist, by = x -> x[4], rev=true)\n",
    "\n",
    "#榜單\n",
    "for i in 2:length(rawlist)\n",
    "    flag = false\n",
    "    tmp = split(rawlist[i], \"    \")\n",
    "    \n",
    "    #取科系代碼\n",
    "    if length(tmp) == 1 && tmp[1][1] == ' '\n",
    "        dptCode = tmp[1][2:5]\n",
    "        dptCode = parse(Int64, dptCode)\n",
    "        flag = true\n",
    "        for j in Unilist\n",
    "            if dptCode <= j[6] && dptCode >= j[5]\n",
    "                dptCode = j[1]\n",
    "            end\n",
    "        end\n",
    "    end\n",
    "    \n",
    "    #讀取\n",
    "    if !flag\n",
    "        for k in 1:length(tmp) - 1\n",
    "            if tmp[k] != \"\"\n",
    "                tmp[k] = lstrip(tmp[k])\n",
    "                push!(list,(tmp[k][12:end], dptCode))\n",
    "            end\n",
    "        end\n",
    "    end\n",
    "end\n",
    "\n",
    "#印出整理過的資料 前十項\n",
    "print(list[1:10],\"\\n\") #名字 : 公立1 私立0\n",
    "print(Unilist[1:10]) #公立1 私立0 / 全名 / 累計錄取人數 / 學系代碼開頭 / 學系代碼結尾"
   ]
  },
  {
   "cell_type": "markdown",
   "id": "2d730506-a954-4412-84eb-339b557bb450",
   "metadata": {},
   "source": [
    "## 觀察資料性質"
   ]
  },
  {
   "cell_type": "code",
   "execution_count": 3,
   "id": "a8f91b3c",
   "metadata": {},
   "outputs": [
    {
     "name": "stdout",
     "output_type": "stream",
     "text": [
      "大學總數: 71\n",
      "學生總數: 89035\n",
      "\n",
      "錄取人數最多的前十個學校​: \n",
      "中國文化大學: 4296人\n",
      "淡江大學: 3587人\n",
      "輔仁大學: 3394人\n",
      "銘傳大學: 3197人\n",
      "逢甲大學: 2938人\n",
      "國立臺灣大學: 2866人\n",
      "東海大學: 2809人\n",
      "真理大學: 2426人\n",
      "東吳大學: 2398人\n",
      "實踐大學: 2379人\n"
     ]
    }
   ],
   "source": [
    "print(\"大學總數: \",N_uni, \"\\n學生總數: \" , N_stu, \"\\n\\n錄取人數最多的前十個學校​: \\n\")\n",
    "for i in 1:10\n",
    "    print(Unilist[i][2],\": \",Unilist[i][4], \"人\\n\")\n",
    "end"
   ]
  },
  {
   "cell_type": "code",
   "execution_count": 4,
   "id": "6efc95dc",
   "metadata": {},
   "outputs": [
    {
     "name": "stdout",
     "output_type": "stream",
     "text": [
      "公立學校共錄取28219人\n",
      "私立學校共錄取60816人\n"
     ]
    }
   ],
   "source": [
    "for i in Unilist\n",
    "    if i[1] == 1\n",
    "        N += i[4]\n",
    "    else\n",
    "        P += i[4]\n",
    "    end\n",
    "end\n",
    "print(\"公立學校共錄取\", N, \"人\\n\")\n",
    "print(\"私立學校共錄取\", P, \"人\\n\")"
   ]
  },
  {
   "cell_type": "code",
   "execution_count": 5,
   "id": "2421a2a8",
   "metadata": {},
   "outputs": [
    {
     "name": "stdout",
     "output_type": "stream",
     "text": [
      "公立大學出現最多次的名字: 怡君\n",
      "共出現73次\n",
      "私立大學出現最多次的名字: 雅婷\n",
      "共出現218次"
     ]
    }
   ],
   "source": [
    "NnameDict = Dict()\n",
    "PnameDict = Dict()\n",
    "for i in list\n",
    "    if i[2] == 1\n",
    "        if !haskey(NnameDict, i[1])\n",
    "            NnameDict[i[1]] = 1\n",
    "        else\n",
    "            NnameDict[i[1]] += 1\n",
    "        end\n",
    "    else\n",
    "        if !haskey(PnameDict, i[1])\n",
    "            PnameDict[i[1]] = 1\n",
    "        else\n",
    "            PnameDict[i[1]] += 1\n",
    "        end\n",
    "    end\n",
    "end\n",
    "\n",
    "NsortDict = sort(collect(NnameDict), by = x -> x.second, rev = true)\n",
    "PsortDict = sort(collect(PnameDict), by = x -> x.second, rev = true)\n",
    "print(\"公立大學出現最多次的名字: \", NsortDict[1][1])\n",
    "print(\"\\n共出現\",NsortDict[1][2],\"次\")\n",
    "print(\"\\n私立大學出現最多次的名字: \", PsortDict[1][1])\n",
    "print(\"\\n共出現\",PsortDict[1][2],\"次\")"
   ]
  },
  {
   "cell_type": "markdown",
   "id": "c9259a7f-337e-4fe2-9382-969f3eb389bd",
   "metadata": {},
   "source": [
    "### 令榜單中只出現一次的名字稱為「獨特名字」，計算公私立大學錄取學生的名字為「獨特名字」的比例，並檢驗是否有顯著差異。"
   ]
  },
  {
   "cell_type": "code",
   "execution_count": 7,
   "id": "e6efb8f8",
   "metadata": {},
   "outputs": [
    {
     "name": "stdout",
     "output_type": "stream",
     "text": [
      "n公立大學獨特名字的比例: \n",
      "0.5204\n",
      "私立大學獨特名字的比例: \n",
      "0.3959\n",
      "\n",
      "公立大學的比例較高\n",
      "\n",
      "Two sample t-test (unequal variance)\n",
      "------------------------------------\n",
      "Population details:\n",
      "    parameter of interest:   Mean difference\n",
      "    value under h_0:         0\n",
      "    point estimate:          0.124522\n",
      "    95% confidence interval: (0.1175, 0.1315)\n",
      "\n",
      "Test summary:\n",
      "    outcome with 95% confidence: reject h_0\n",
      "    two-sided p-value:           <1e-99\n",
      "\n",
      "Details:\n",
      "    number of observations:   [28219,60816]\n",
      "    t-statistic:              34.8352396782212\n",
      "    degrees of freedom:       53944.272826798435\n",
      "    empirical standard error: 0.0035745872159658404\n",
      "------------------------------------\n",
      "\n",
      "outcome with 95% confidence: reject h_0 -> 有顯著差異."
     ]
    }
   ],
   "source": [
    "#import Pkg; Pkg.add(\"HypothesisTests\")\n",
    "using Statistics, HypothesisTests\n",
    "NpercDict = []\n",
    "PpercDict = []\n",
    "tmp = 0.0\n",
    "\n",
    "#get percentages\n",
    "for i in NsortDict\n",
    "    push!(NpercDict, (i[1], round(i[2]/N; digits = 6)))\n",
    "end\n",
    "for i in PsortDict\n",
    "    push!(PpercDict, (i[1], round(i[2]/P; digits = 6)))\n",
    "end\n",
    "\n",
    "for i in NpercDict\n",
    "    if i[2] > 3.5e-5\n",
    "        tmp += i[2]\n",
    "    end\n",
    "end\n",
    "UniqRateN = round(1 - tmp; digits = 4)\n",
    "\n",
    "tmp = 0.0\n",
    "for i in PpercDict\n",
    "    if i[2] > 1.6e-5\n",
    "        tmp += i[2]\n",
    "    end\n",
    "end\n",
    "UniqRateP = round(1 - tmp; digits = 4)\n",
    "\n",
    "print(\"公立大學獨特名字的比例: \\n\")\n",
    "print(UniqRateN)\n",
    "print(\"\\n私立大學獨特名字的比例: \\n\")\n",
    "print(UniqRateP)\n",
    "print(\"\\n\\n公立大學的比例較高\\n\\n\")\n",
    "\n",
    "#generate vectors for t-test\n",
    "Ntest = []\n",
    "Ptest = []\n",
    "for i in list\n",
    "    if i[2] == 1\n",
    "        if NnameDict[i[1]] == 1\n",
    "            push!(Ntest, 1)\n",
    "        else\n",
    "            push!(Ntest, 0)\n",
    "        end\n",
    "    elseif i[2] == 0\n",
    "        if PnameDict[i[1]] == 1\n",
    "            push!(Ptest, 1)\n",
    "        else\n",
    "            push!(Ptest, 0)\n",
    "        end\n",
    "    else\n",
    "        print(i)\n",
    "    end\n",
    "end\n",
    "\n",
    "Ntest = convert(Array{Int64,1}, Ntest)\n",
    "Ptest = convert(Array{Int64,1}, Ptest)\n",
    "print(UnequalVarianceTTest(Ntest, Ptest))\n",
    "print(\"------------------------------------\\n\\noutcome with 95% confidence: reject h_0 -> 有顯著差異.\")"
   ]
  },
  {
   "cell_type": "markdown",
   "id": "e1dd9fbe-3208-419e-8423-e7750049d538",
   "metadata": {},
   "source": [
    "### 定義常見名字的累積比例為其集中度，公私立學校何者的集中度較高？"
   ]
  },
  {
   "cell_type": "code",
   "execution_count": 10,
   "id": "c37676b8",
   "metadata": {},
   "outputs": [
    {
     "name": "stdout",
     "output_type": "stream",
     "text": [
      "(f):\n",
      "公立大學中出現次數最多的前十個名字: \n",
      "28219怡君 /出現次數: 73 /累積比例: 0.0026\n",
      "雅婷 /出現次數: 72 /累積比例: 0.0052\n",
      "宗翰 /出現次數: 59 /累積比例: 0.0073\n",
      "家豪 /出現次數: 44 /累積比例: 0.0089\n",
      "怡婷 /出現次數: 40 /累積比例: 0.0103\n",
      "雅雯 /出現次數: 38 /累積比例: 0.0116\n",
      "婉婷 /出現次數: 35 /累積比例: 0.0128\n",
      "欣怡 /出現次數: 35 /累積比例: 0.014\n",
      "佩珊 /出現次數: 35 /累積比例: 0.0152\n",
      "佳蓉 /出現次數: 30 /累積比例: 0.0163\n",
      "集中度: 0.0163\n",
      "\n",
      "私立大學中出現次數最多的前十個名字: \n",
      "雅婷 /出現次數: 218 /累積比例: 0.0036\n",
      "怡君 /出現次數: 183 /累積比例: 0.0066\n",
      "欣怡 /出現次數: 101 /累積比例: 0.0083\n",
      "怡婷 /出現次數: 100 /累積比例: 0.0099\n",
      "佳蓉 /出現次數: 99 /累積比例: 0.0115\n",
      "家豪 /出現次數: 94 /累積比例: 0.013\n",
      "宗翰 /出現次數: 93 /累積比例: 0.0145\n",
      "婉婷 /出現次數: 85 /累積比例: 0.0159\n",
      "雅雯 /出現次數: 77 /累積比例: 0.0172\n",
      "佩珊 /出現次數: 75 /累積比例: 0.0184\n",
      "集中度: 0.0184\n",
      "\n",
      "私立學校集中度較高"
     ]
    }
   ],
   "source": [
    "print(\"(f):\\n公立大學中出現次數最多的前十個名字: \\n\")\n",
    "tmp = 0.0\n",
    "print(N)\n",
    "for i in NsortDict[1:10]\n",
    "    tmp += round(i[2]/N; digits = 4)\n",
    "    print(i[1], \" /出現次數: \", i[2], \" /累積比例: \", round(tmp; digits = 4), \"\\n\")\n",
    "end\n",
    "print(\"集中度: \", tmp,\"\\n\\n\")\n",
    "\n",
    "print(\"私立大學中出現次數最多的前十個名字: \\n\")\n",
    "tmp = 0.0\n",
    "for i in PsortDict[1:10]\n",
    "    tmp += round(i[2]/P; digits = 4)\n",
    "    print(i[1], \" /出現次數: \", i[2], \" /累積比例: \", round(tmp; digits = 4), \"\\n\")\n",
    "end\n",
    "print(\"集中度: \", tmp)\n",
    "print(\"\\n\\n私立學校集中度較高\")"
   ]
  },
  {
   "cell_type": "markdown",
   "id": "492224a0",
   "metadata": {},
   "source": []
  }
 ],
 "metadata": {
  "kernelspec": {
   "display_name": "Julia 1.8.5",
   "language": "julia",
   "name": "julia-1.8"
  },
  "language_info": {
   "file_extension": ".jl",
   "mimetype": "application/julia",
   "name": "julia",
   "version": "1.8.5"
  },
  "toc": {
   "base_numbering": 1,
   "nav_menu": {},
   "number_sections": false,
   "sideBar": true,
   "skip_h1_title": false,
   "title_cell": "Table of Contents",
   "title_sidebar": "Contents",
   "toc_cell": false,
   "toc_position": {
    "height": "calc(100% - 180px)",
    "left": "10px",
    "top": "150px",
    "width": "492.664px"
   },
   "toc_section_display": true,
   "toc_window_display": true
  }
 },
 "nbformat": 4,
 "nbformat_minor": 5
}
